{
 "cells": [
  {
   "cell_type": "code",
   "execution_count": 1,
   "id": "bb4266ab",
   "metadata": {},
   "outputs": [],
   "source": [
    "import pandas as pd"
   ]
  },
  {
   "cell_type": "code",
   "execution_count": 2,
   "id": "19a5d0f6",
   "metadata": {},
   "outputs": [],
   "source": [
    "data=pd.read_csv(\"C:/Users/siby9/Downloads/house-prices-advanced-regression-techniques/train.csv\")\n",
    "test=pd.read_csv(\"C:/Users/siby9/Downloads/house-prices-advanced-regression-techniques/test.csv\")"
   ]
  },
  {
   "cell_type": "code",
   "execution_count": 3,
   "id": "bbf00d95",
   "metadata": {},
   "outputs": [
    {
     "data": {
      "text/plain": [
       "0        21\n",
       "1        48\n",
       "2        23\n",
       "3       109\n",
       "4        24\n",
       "       ... \n",
       "1455     25\n",
       "1456     46\n",
       "1457     83\n",
       "1458     74\n",
       "1459     59\n",
       "Name: age, Length: 1460, dtype: int64"
      ]
     },
     "execution_count": 3,
     "metadata": {},
     "output_type": "execute_result"
    }
   ],
   "source": [
    "data['age'] = 2024 - data['YearBuilt']\n",
    "data['age']"
   ]
  },
  {
   "cell_type": "code",
   "execution_count": 4,
   "id": "17107c3f",
   "metadata": {},
   "outputs": [],
   "source": [
    "data = data[['LotArea','age','RoofStyle','1stFlrSF','2ndFlrSF','BedroomAbvGr','KitchenAbvGr','KitchenQual','Fireplaces','GarageArea','GarageQual','Heating','HeatingQC','SalePrice']]"
   ]
  },
  {
   "cell_type": "code",
   "execution_count": 5,
   "id": "b6056b54",
   "metadata": {},
   "outputs": [
    {
     "name": "stdout",
     "output_type": "stream",
     "text": [
      "<class 'pandas.core.frame.DataFrame'>\n",
      "RangeIndex: 1460 entries, 0 to 1459\n",
      "Data columns (total 14 columns):\n",
      " #   Column        Non-Null Count  Dtype \n",
      "---  ------        --------------  ----- \n",
      " 0   LotArea       1460 non-null   int64 \n",
      " 1   age           1460 non-null   int64 \n",
      " 2   RoofStyle     1460 non-null   object\n",
      " 3   1stFlrSF      1460 non-null   int64 \n",
      " 4   2ndFlrSF      1460 non-null   int64 \n",
      " 5   BedroomAbvGr  1460 non-null   int64 \n",
      " 6   KitchenAbvGr  1460 non-null   int64 \n",
      " 7   KitchenQual   1460 non-null   object\n",
      " 8   Fireplaces    1460 non-null   int64 \n",
      " 9   GarageArea    1460 non-null   int64 \n",
      " 10  GarageQual    1379 non-null   object\n",
      " 11  Heating       1460 non-null   object\n",
      " 12  HeatingQC     1460 non-null   object\n",
      " 13  SalePrice     1460 non-null   int64 \n",
      "dtypes: int64(9), object(5)\n",
      "memory usage: 159.8+ KB\n"
     ]
    }
   ],
   "source": [
    "data.info()"
   ]
  },
  {
   "cell_type": "code",
   "execution_count": 6,
   "id": "5e70a3e8",
   "metadata": {},
   "outputs": [],
   "source": [
    "data=data.dropna(axis=0)"
   ]
  },
  {
   "cell_type": "code",
   "execution_count": 7,
   "id": "0f6a3a4b",
   "metadata": {},
   "outputs": [
    {
     "name": "stdout",
     "output_type": "stream",
     "text": [
      "<class 'pandas.core.frame.DataFrame'>\n",
      "Index: 1379 entries, 0 to 1459\n",
      "Data columns (total 14 columns):\n",
      " #   Column        Non-Null Count  Dtype \n",
      "---  ------        --------------  ----- \n",
      " 0   LotArea       1379 non-null   int64 \n",
      " 1   age           1379 non-null   int64 \n",
      " 2   RoofStyle     1379 non-null   object\n",
      " 3   1stFlrSF      1379 non-null   int64 \n",
      " 4   2ndFlrSF      1379 non-null   int64 \n",
      " 5   BedroomAbvGr  1379 non-null   int64 \n",
      " 6   KitchenAbvGr  1379 non-null   int64 \n",
      " 7   KitchenQual   1379 non-null   object\n",
      " 8   Fireplaces    1379 non-null   int64 \n",
      " 9   GarageArea    1379 non-null   int64 \n",
      " 10  GarageQual    1379 non-null   object\n",
      " 11  Heating       1379 non-null   object\n",
      " 12  HeatingQC     1379 non-null   object\n",
      " 13  SalePrice     1379 non-null   int64 \n",
      "dtypes: int64(9), object(5)\n",
      "memory usage: 161.6+ KB\n"
     ]
    }
   ],
   "source": [
    "data.info()"
   ]
  },
  {
   "cell_type": "code",
   "execution_count": 8,
   "id": "1846e86c",
   "metadata": {},
   "outputs": [
    {
     "data": {
      "text/plain": [
       "['RoofStyle', 'KitchenQual', 'GarageQual', 'Heating', 'HeatingQC']"
      ]
     },
     "execution_count": 8,
     "metadata": {},
     "output_type": "execute_result"
    }
   ],
   "source": [
    "column_types=data.dtypes\n",
    "object_columns=column_types[column_types=='object']\n",
    "object_columns=list(object_columns.index)\n",
    "object_columns"
   ]
  },
  {
   "cell_type": "code",
   "execution_count": 9,
   "id": "50ac428f",
   "metadata": {},
   "outputs": [
    {
     "data": {
      "text/html": [
       "<div>\n",
       "<style scoped>\n",
       "    .dataframe tbody tr th:only-of-type {\n",
       "        vertical-align: middle;\n",
       "    }\n",
       "\n",
       "    .dataframe tbody tr th {\n",
       "        vertical-align: top;\n",
       "    }\n",
       "\n",
       "    .dataframe thead th {\n",
       "        text-align: right;\n",
       "    }\n",
       "</style>\n",
       "<table border=\"1\" class=\"dataframe\">\n",
       "  <thead>\n",
       "    <tr style=\"text-align: right;\">\n",
       "      <th></th>\n",
       "      <th>LotArea</th>\n",
       "      <th>age</th>\n",
       "      <th>RoofStyle</th>\n",
       "      <th>1stFlrSF</th>\n",
       "      <th>2ndFlrSF</th>\n",
       "      <th>BedroomAbvGr</th>\n",
       "      <th>KitchenAbvGr</th>\n",
       "      <th>KitchenQual</th>\n",
       "      <th>Fireplaces</th>\n",
       "      <th>GarageArea</th>\n",
       "      <th>...</th>\n",
       "      <th>GasA</th>\n",
       "      <th>GasW</th>\n",
       "      <th>Grav</th>\n",
       "      <th>OthW</th>\n",
       "      <th>Wall</th>\n",
       "      <th>Ex</th>\n",
       "      <th>Fa</th>\n",
       "      <th>Gd</th>\n",
       "      <th>Po</th>\n",
       "      <th>TA</th>\n",
       "    </tr>\n",
       "  </thead>\n",
       "  <tbody>\n",
       "    <tr>\n",
       "      <th>0</th>\n",
       "      <td>8450</td>\n",
       "      <td>21</td>\n",
       "      <td>Gable</td>\n",
       "      <td>856</td>\n",
       "      <td>854</td>\n",
       "      <td>3</td>\n",
       "      <td>1</td>\n",
       "      <td>Gd</td>\n",
       "      <td>0</td>\n",
       "      <td>548</td>\n",
       "      <td>...</td>\n",
       "      <td>True</td>\n",
       "      <td>False</td>\n",
       "      <td>False</td>\n",
       "      <td>False</td>\n",
       "      <td>False</td>\n",
       "      <td>True</td>\n",
       "      <td>False</td>\n",
       "      <td>False</td>\n",
       "      <td>False</td>\n",
       "      <td>False</td>\n",
       "    </tr>\n",
       "    <tr>\n",
       "      <th>1</th>\n",
       "      <td>9600</td>\n",
       "      <td>48</td>\n",
       "      <td>Gable</td>\n",
       "      <td>1262</td>\n",
       "      <td>0</td>\n",
       "      <td>3</td>\n",
       "      <td>1</td>\n",
       "      <td>TA</td>\n",
       "      <td>1</td>\n",
       "      <td>460</td>\n",
       "      <td>...</td>\n",
       "      <td>True</td>\n",
       "      <td>False</td>\n",
       "      <td>False</td>\n",
       "      <td>False</td>\n",
       "      <td>False</td>\n",
       "      <td>True</td>\n",
       "      <td>False</td>\n",
       "      <td>False</td>\n",
       "      <td>False</td>\n",
       "      <td>False</td>\n",
       "    </tr>\n",
       "    <tr>\n",
       "      <th>2</th>\n",
       "      <td>11250</td>\n",
       "      <td>23</td>\n",
       "      <td>Gable</td>\n",
       "      <td>920</td>\n",
       "      <td>866</td>\n",
       "      <td>3</td>\n",
       "      <td>1</td>\n",
       "      <td>Gd</td>\n",
       "      <td>1</td>\n",
       "      <td>608</td>\n",
       "      <td>...</td>\n",
       "      <td>True</td>\n",
       "      <td>False</td>\n",
       "      <td>False</td>\n",
       "      <td>False</td>\n",
       "      <td>False</td>\n",
       "      <td>True</td>\n",
       "      <td>False</td>\n",
       "      <td>False</td>\n",
       "      <td>False</td>\n",
       "      <td>False</td>\n",
       "    </tr>\n",
       "    <tr>\n",
       "      <th>3</th>\n",
       "      <td>9550</td>\n",
       "      <td>109</td>\n",
       "      <td>Gable</td>\n",
       "      <td>961</td>\n",
       "      <td>756</td>\n",
       "      <td>3</td>\n",
       "      <td>1</td>\n",
       "      <td>Gd</td>\n",
       "      <td>1</td>\n",
       "      <td>642</td>\n",
       "      <td>...</td>\n",
       "      <td>True</td>\n",
       "      <td>False</td>\n",
       "      <td>False</td>\n",
       "      <td>False</td>\n",
       "      <td>False</td>\n",
       "      <td>False</td>\n",
       "      <td>False</td>\n",
       "      <td>True</td>\n",
       "      <td>False</td>\n",
       "      <td>False</td>\n",
       "    </tr>\n",
       "    <tr>\n",
       "      <th>4</th>\n",
       "      <td>14260</td>\n",
       "      <td>24</td>\n",
       "      <td>Gable</td>\n",
       "      <td>1145</td>\n",
       "      <td>1053</td>\n",
       "      <td>4</td>\n",
       "      <td>1</td>\n",
       "      <td>Gd</td>\n",
       "      <td>1</td>\n",
       "      <td>836</td>\n",
       "      <td>...</td>\n",
       "      <td>True</td>\n",
       "      <td>False</td>\n",
       "      <td>False</td>\n",
       "      <td>False</td>\n",
       "      <td>False</td>\n",
       "      <td>True</td>\n",
       "      <td>False</td>\n",
       "      <td>False</td>\n",
       "      <td>False</td>\n",
       "      <td>False</td>\n",
       "    </tr>\n",
       "    <tr>\n",
       "      <th>...</th>\n",
       "      <td>...</td>\n",
       "      <td>...</td>\n",
       "      <td>...</td>\n",
       "      <td>...</td>\n",
       "      <td>...</td>\n",
       "      <td>...</td>\n",
       "      <td>...</td>\n",
       "      <td>...</td>\n",
       "      <td>...</td>\n",
       "      <td>...</td>\n",
       "      <td>...</td>\n",
       "      <td>...</td>\n",
       "      <td>...</td>\n",
       "      <td>...</td>\n",
       "      <td>...</td>\n",
       "      <td>...</td>\n",
       "      <td>...</td>\n",
       "      <td>...</td>\n",
       "      <td>...</td>\n",
       "      <td>...</td>\n",
       "      <td>...</td>\n",
       "    </tr>\n",
       "    <tr>\n",
       "      <th>1455</th>\n",
       "      <td>7917</td>\n",
       "      <td>25</td>\n",
       "      <td>Gable</td>\n",
       "      <td>953</td>\n",
       "      <td>694</td>\n",
       "      <td>3</td>\n",
       "      <td>1</td>\n",
       "      <td>TA</td>\n",
       "      <td>1</td>\n",
       "      <td>460</td>\n",
       "      <td>...</td>\n",
       "      <td>True</td>\n",
       "      <td>False</td>\n",
       "      <td>False</td>\n",
       "      <td>False</td>\n",
       "      <td>False</td>\n",
       "      <td>True</td>\n",
       "      <td>False</td>\n",
       "      <td>False</td>\n",
       "      <td>False</td>\n",
       "      <td>False</td>\n",
       "    </tr>\n",
       "    <tr>\n",
       "      <th>1456</th>\n",
       "      <td>13175</td>\n",
       "      <td>46</td>\n",
       "      <td>Gable</td>\n",
       "      <td>2073</td>\n",
       "      <td>0</td>\n",
       "      <td>3</td>\n",
       "      <td>1</td>\n",
       "      <td>TA</td>\n",
       "      <td>2</td>\n",
       "      <td>500</td>\n",
       "      <td>...</td>\n",
       "      <td>True</td>\n",
       "      <td>False</td>\n",
       "      <td>False</td>\n",
       "      <td>False</td>\n",
       "      <td>False</td>\n",
       "      <td>False</td>\n",
       "      <td>False</td>\n",
       "      <td>False</td>\n",
       "      <td>False</td>\n",
       "      <td>True</td>\n",
       "    </tr>\n",
       "    <tr>\n",
       "      <th>1457</th>\n",
       "      <td>9042</td>\n",
       "      <td>83</td>\n",
       "      <td>Gable</td>\n",
       "      <td>1188</td>\n",
       "      <td>1152</td>\n",
       "      <td>4</td>\n",
       "      <td>1</td>\n",
       "      <td>Gd</td>\n",
       "      <td>2</td>\n",
       "      <td>252</td>\n",
       "      <td>...</td>\n",
       "      <td>True</td>\n",
       "      <td>False</td>\n",
       "      <td>False</td>\n",
       "      <td>False</td>\n",
       "      <td>False</td>\n",
       "      <td>True</td>\n",
       "      <td>False</td>\n",
       "      <td>False</td>\n",
       "      <td>False</td>\n",
       "      <td>False</td>\n",
       "    </tr>\n",
       "    <tr>\n",
       "      <th>1458</th>\n",
       "      <td>9717</td>\n",
       "      <td>74</td>\n",
       "      <td>Hip</td>\n",
       "      <td>1078</td>\n",
       "      <td>0</td>\n",
       "      <td>2</td>\n",
       "      <td>1</td>\n",
       "      <td>Gd</td>\n",
       "      <td>0</td>\n",
       "      <td>240</td>\n",
       "      <td>...</td>\n",
       "      <td>True</td>\n",
       "      <td>False</td>\n",
       "      <td>False</td>\n",
       "      <td>False</td>\n",
       "      <td>False</td>\n",
       "      <td>False</td>\n",
       "      <td>False</td>\n",
       "      <td>True</td>\n",
       "      <td>False</td>\n",
       "      <td>False</td>\n",
       "    </tr>\n",
       "    <tr>\n",
       "      <th>1459</th>\n",
       "      <td>9937</td>\n",
       "      <td>59</td>\n",
       "      <td>Gable</td>\n",
       "      <td>1256</td>\n",
       "      <td>0</td>\n",
       "      <td>3</td>\n",
       "      <td>1</td>\n",
       "      <td>TA</td>\n",
       "      <td>0</td>\n",
       "      <td>276</td>\n",
       "      <td>...</td>\n",
       "      <td>True</td>\n",
       "      <td>False</td>\n",
       "      <td>False</td>\n",
       "      <td>False</td>\n",
       "      <td>False</td>\n",
       "      <td>False</td>\n",
       "      <td>False</td>\n",
       "      <td>True</td>\n",
       "      <td>False</td>\n",
       "      <td>False</td>\n",
       "    </tr>\n",
       "  </tbody>\n",
       "</table>\n",
       "<p>1379 rows × 40 columns</p>\n",
       "</div>"
      ],
      "text/plain": [
       "      LotArea  age RoofStyle  1stFlrSF  2ndFlrSF  BedroomAbvGr  KitchenAbvGr  \\\n",
       "0        8450   21     Gable       856       854             3             1   \n",
       "1        9600   48     Gable      1262         0             3             1   \n",
       "2       11250   23     Gable       920       866             3             1   \n",
       "3        9550  109     Gable       961       756             3             1   \n",
       "4       14260   24     Gable      1145      1053             4             1   \n",
       "...       ...  ...       ...       ...       ...           ...           ...   \n",
       "1455     7917   25     Gable       953       694             3             1   \n",
       "1456    13175   46     Gable      2073         0             3             1   \n",
       "1457     9042   83     Gable      1188      1152             4             1   \n",
       "1458     9717   74       Hip      1078         0             2             1   \n",
       "1459     9937   59     Gable      1256         0             3             1   \n",
       "\n",
       "     KitchenQual  Fireplaces  GarageArea  ...  GasA   GasW   Grav   OthW  \\\n",
       "0             Gd           0         548  ...  True  False  False  False   \n",
       "1             TA           1         460  ...  True  False  False  False   \n",
       "2             Gd           1         608  ...  True  False  False  False   \n",
       "3             Gd           1         642  ...  True  False  False  False   \n",
       "4             Gd           1         836  ...  True  False  False  False   \n",
       "...          ...         ...         ...  ...   ...    ...    ...    ...   \n",
       "1455          TA           1         460  ...  True  False  False  False   \n",
       "1456          TA           2         500  ...  True  False  False  False   \n",
       "1457          Gd           2         252  ...  True  False  False  False   \n",
       "1458          Gd           0         240  ...  True  False  False  False   \n",
       "1459          TA           0         276  ...  True  False  False  False   \n",
       "\n",
       "       Wall     Ex     Fa     Gd     Po     TA  \n",
       "0     False   True  False  False  False  False  \n",
       "1     False   True  False  False  False  False  \n",
       "2     False   True  False  False  False  False  \n",
       "3     False  False  False   True  False  False  \n",
       "4     False   True  False  False  False  False  \n",
       "...     ...    ...    ...    ...    ...    ...  \n",
       "1455  False   True  False  False  False  False  \n",
       "1456  False  False  False  False  False   True  \n",
       "1457  False   True  False  False  False  False  \n",
       "1458  False  False  False   True  False  False  \n",
       "1459  False  False  False   True  False  False  \n",
       "\n",
       "[1379 rows x 40 columns]"
      ]
     },
     "execution_count": 9,
     "metadata": {},
     "output_type": "execute_result"
    }
   ],
   "source": [
    "for i in object_columns:\n",
    "    dummies = pd.get_dummies(data[i])\n",
    "    data = pd.concat([data,dummies],axis='columns')\n",
    "data\n"
   ]
  },
  {
   "cell_type": "code",
   "execution_count": 10,
   "id": "04e6ddc0",
   "metadata": {},
   "outputs": [
    {
     "name": "stdout",
     "output_type": "stream",
     "text": [
      "<class 'pandas.core.frame.DataFrame'>\n",
      "Index: 1379 entries, 0 to 1459\n",
      "Data columns (total 40 columns):\n",
      " #   Column        Non-Null Count  Dtype \n",
      "---  ------        --------------  ----- \n",
      " 0   LotArea       1379 non-null   int64 \n",
      " 1   age           1379 non-null   int64 \n",
      " 2   RoofStyle     1379 non-null   object\n",
      " 3   1stFlrSF      1379 non-null   int64 \n",
      " 4   2ndFlrSF      1379 non-null   int64 \n",
      " 5   BedroomAbvGr  1379 non-null   int64 \n",
      " 6   KitchenAbvGr  1379 non-null   int64 \n",
      " 7   KitchenQual   1379 non-null   object\n",
      " 8   Fireplaces    1379 non-null   int64 \n",
      " 9   GarageArea    1379 non-null   int64 \n",
      " 10  GarageQual    1379 non-null   object\n",
      " 11  Heating       1379 non-null   object\n",
      " 12  HeatingQC     1379 non-null   object\n",
      " 13  SalePrice     1379 non-null   int64 \n",
      " 14  Flat          1379 non-null   bool  \n",
      " 15  Gable         1379 non-null   bool  \n",
      " 16  Gambrel       1379 non-null   bool  \n",
      " 17  Hip           1379 non-null   bool  \n",
      " 18  Mansard       1379 non-null   bool  \n",
      " 19  Shed          1379 non-null   bool  \n",
      " 20  Ex            1379 non-null   bool  \n",
      " 21  Fa            1379 non-null   bool  \n",
      " 22  Gd            1379 non-null   bool  \n",
      " 23  TA            1379 non-null   bool  \n",
      " 24  Ex            1379 non-null   bool  \n",
      " 25  Fa            1379 non-null   bool  \n",
      " 26  Gd            1379 non-null   bool  \n",
      " 27  Po            1379 non-null   bool  \n",
      " 28  TA            1379 non-null   bool  \n",
      " 29  Floor         1379 non-null   bool  \n",
      " 30  GasA          1379 non-null   bool  \n",
      " 31  GasW          1379 non-null   bool  \n",
      " 32  Grav          1379 non-null   bool  \n",
      " 33  OthW          1379 non-null   bool  \n",
      " 34  Wall          1379 non-null   bool  \n",
      " 35  Ex            1379 non-null   bool  \n",
      " 36  Fa            1379 non-null   bool  \n",
      " 37  Gd            1379 non-null   bool  \n",
      " 38  Po            1379 non-null   bool  \n",
      " 39  TA            1379 non-null   bool  \n",
      "dtypes: bool(26), int64(9), object(5)\n",
      "memory usage: 196.6+ KB\n"
     ]
    }
   ],
   "source": [
    "data.info()"
   ]
  },
  {
   "cell_type": "code",
   "execution_count": 11,
   "id": "d894adec",
   "metadata": {},
   "outputs": [],
   "source": [
    "data = data.drop(object_columns,axis=1)"
   ]
  },
  {
   "cell_type": "code",
   "execution_count": 12,
   "id": "2d55af85",
   "metadata": {},
   "outputs": [],
   "source": [
    "from sklearn.linear_model import LinearRegression\n",
    "model=LinearRegression()"
   ]
  },
  {
   "cell_type": "code",
   "execution_count": 13,
   "id": "b1b31874",
   "metadata": {},
   "outputs": [],
   "source": [
    "X=data.drop('SalePrice',axis=1)\n",
    "y=data.SalePrice"
   ]
  },
  {
   "cell_type": "code",
   "execution_count": 14,
   "id": "b17ce767",
   "metadata": {},
   "outputs": [],
   "source": [
    "from sklearn.model_selection import train_test_split\n",
    "X_train,X_test,y_train,y_test=train_test_split(X,y,test_size=0.2,random_state=40)"
   ]
  },
  {
   "cell_type": "code",
   "execution_count": 15,
   "id": "7b50806d",
   "metadata": {},
   "outputs": [
    {
     "data": {
      "text/html": [
       "<style>#sk-container-id-1 {color: black;}#sk-container-id-1 pre{padding: 0;}#sk-container-id-1 div.sk-toggleable {background-color: white;}#sk-container-id-1 label.sk-toggleable__label {cursor: pointer;display: block;width: 100%;margin-bottom: 0;padding: 0.3em;box-sizing: border-box;text-align: center;}#sk-container-id-1 label.sk-toggleable__label-arrow:before {content: \"▸\";float: left;margin-right: 0.25em;color: #696969;}#sk-container-id-1 label.sk-toggleable__label-arrow:hover:before {color: black;}#sk-container-id-1 div.sk-estimator:hover label.sk-toggleable__label-arrow:before {color: black;}#sk-container-id-1 div.sk-toggleable__content {max-height: 0;max-width: 0;overflow: hidden;text-align: left;background-color: #f0f8ff;}#sk-container-id-1 div.sk-toggleable__content pre {margin: 0.2em;color: black;border-radius: 0.25em;background-color: #f0f8ff;}#sk-container-id-1 input.sk-toggleable__control:checked~div.sk-toggleable__content {max-height: 200px;max-width: 100%;overflow: auto;}#sk-container-id-1 input.sk-toggleable__control:checked~label.sk-toggleable__label-arrow:before {content: \"▾\";}#sk-container-id-1 div.sk-estimator input.sk-toggleable__control:checked~label.sk-toggleable__label {background-color: #d4ebff;}#sk-container-id-1 div.sk-label input.sk-toggleable__control:checked~label.sk-toggleable__label {background-color: #d4ebff;}#sk-container-id-1 input.sk-hidden--visually {border: 0;clip: rect(1px 1px 1px 1px);clip: rect(1px, 1px, 1px, 1px);height: 1px;margin: -1px;overflow: hidden;padding: 0;position: absolute;width: 1px;}#sk-container-id-1 div.sk-estimator {font-family: monospace;background-color: #f0f8ff;border: 1px dotted black;border-radius: 0.25em;box-sizing: border-box;margin-bottom: 0.5em;}#sk-container-id-1 div.sk-estimator:hover {background-color: #d4ebff;}#sk-container-id-1 div.sk-parallel-item::after {content: \"\";width: 100%;border-bottom: 1px solid gray;flex-grow: 1;}#sk-container-id-1 div.sk-label:hover label.sk-toggleable__label {background-color: #d4ebff;}#sk-container-id-1 div.sk-serial::before {content: \"\";position: absolute;border-left: 1px solid gray;box-sizing: border-box;top: 0;bottom: 0;left: 50%;z-index: 0;}#sk-container-id-1 div.sk-serial {display: flex;flex-direction: column;align-items: center;background-color: white;padding-right: 0.2em;padding-left: 0.2em;position: relative;}#sk-container-id-1 div.sk-item {position: relative;z-index: 1;}#sk-container-id-1 div.sk-parallel {display: flex;align-items: stretch;justify-content: center;background-color: white;position: relative;}#sk-container-id-1 div.sk-item::before, #sk-container-id-1 div.sk-parallel-item::before {content: \"\";position: absolute;border-left: 1px solid gray;box-sizing: border-box;top: 0;bottom: 0;left: 50%;z-index: -1;}#sk-container-id-1 div.sk-parallel-item {display: flex;flex-direction: column;z-index: 1;position: relative;background-color: white;}#sk-container-id-1 div.sk-parallel-item:first-child::after {align-self: flex-end;width: 50%;}#sk-container-id-1 div.sk-parallel-item:last-child::after {align-self: flex-start;width: 50%;}#sk-container-id-1 div.sk-parallel-item:only-child::after {width: 0;}#sk-container-id-1 div.sk-dashed-wrapped {border: 1px dashed gray;margin: 0 0.4em 0.5em 0.4em;box-sizing: border-box;padding-bottom: 0.4em;background-color: white;}#sk-container-id-1 div.sk-label label {font-family: monospace;font-weight: bold;display: inline-block;line-height: 1.2em;}#sk-container-id-1 div.sk-label-container {text-align: center;}#sk-container-id-1 div.sk-container {/* jupyter's `normalize.less` sets `[hidden] { display: none; }` but bootstrap.min.css set `[hidden] { display: none !important; }` so we also need the `!important` here to be able to override the default hidden behavior on the sphinx rendered scikit-learn.org. See: https://github.com/scikit-learn/scikit-learn/issues/21755 */display: inline-block !important;position: relative;}#sk-container-id-1 div.sk-text-repr-fallback {display: none;}</style><div id=\"sk-container-id-1\" class=\"sk-top-container\"><div class=\"sk-text-repr-fallback\"><pre>LinearRegression()</pre><b>In a Jupyter environment, please rerun this cell to show the HTML representation or trust the notebook. <br />On GitHub, the HTML representation is unable to render, please try loading this page with nbviewer.org.</b></div><div class=\"sk-container\" hidden><div class=\"sk-item\"><div class=\"sk-estimator sk-toggleable\"><input class=\"sk-toggleable__control sk-hidden--visually\" id=\"sk-estimator-id-1\" type=\"checkbox\" checked><label for=\"sk-estimator-id-1\" class=\"sk-toggleable__label sk-toggleable__label-arrow\">LinearRegression</label><div class=\"sk-toggleable__content\"><pre>LinearRegression()</pre></div></div></div></div></div>"
      ],
      "text/plain": [
       "LinearRegression()"
      ]
     },
     "execution_count": 15,
     "metadata": {},
     "output_type": "execute_result"
    }
   ],
   "source": [
    "model.fit(X_train,y_train)"
   ]
  },
  {
   "cell_type": "code",
   "execution_count": 16,
   "id": "92bf7e36",
   "metadata": {},
   "outputs": [],
   "source": [
    "y_pred=model.predict(X_test)"
   ]
  },
  {
   "cell_type": "code",
   "execution_count": 17,
   "id": "cb30ab4c",
   "metadata": {},
   "outputs": [
    {
     "data": {
      "text/plain": [
       "0.7889471991563033"
      ]
     },
     "execution_count": 17,
     "metadata": {},
     "output_type": "execute_result"
    }
   ],
   "source": [
    "model.score(X_train,y_train)"
   ]
  },
  {
   "cell_type": "code",
   "execution_count": 18,
   "id": "5ec10ca1",
   "metadata": {},
   "outputs": [
    {
     "name": "stdout",
     "output_type": "stream",
     "text": [
      "MAE: 24977.318679492928\n",
      "MSE: 1864945842.197444\n",
      "R2: 0.7285377291794867\n"
     ]
    }
   ],
   "source": [
    "from sklearn.metrics import mean_absolute_error, mean_squared_error,r2_score\n",
    "mae=mean_absolute_error(y_test,y_pred)\n",
    "mse=mean_squared_error(y_test,y_pred)\n",
    "r2_squared=r2_score(y_test,y_pred)\n",
    "\n",
    "print(\"MAE:\",mae)\n",
    "print(\"MSE:\",mse)\n",
    "print(\"R2:\",r2_squared)"
   ]
  }
 ],
 "metadata": {
  "kernelspec": {
   "display_name": "Python 3 (ipykernel)",
   "language": "python",
   "name": "python3"
  },
  "language_info": {
   "codemirror_mode": {
    "name": "ipython",
    "version": 3
   },
   "file_extension": ".py",
   "mimetype": "text/x-python",
   "name": "python",
   "nbconvert_exporter": "python",
   "pygments_lexer": "ipython3",
   "version": "3.11.5"
  }
 },
 "nbformat": 4,
 "nbformat_minor": 5
}
